{
 "cells": [
  {
   "cell_type": "code",
   "execution_count": 1,
   "metadata": {},
   "outputs": [],
   "source": [
    "import pandas as pd\n",
    "import numpy as np\n",
    "import matplotlib.pyplot as plt\n",
    "from datetime import datetime, timedelta\n",
    "from matplotlib import dates as mpl_dates"
   ]
  },
  {
   "cell_type": "code",
   "execution_count": 2,
   "metadata": {},
   "outputs": [],
   "source": [
    "btcDataset = pd.read_csv('../Data/BTC-BRL/2019.csv')\n",
    "btcDatasetSample = pd.read_csv('../Data/BTC-BRL/dez2019.csv')"
   ]
  },
  {
   "cell_type": "code",
   "execution_count": 3,
   "metadata": {},
   "outputs": [],
   "source": [
    "btcDataset.drop(btcDataset.columns[[0,5,6]], axis=1, inplace=True)"
   ]
  },
  {
   "cell_type": "code",
   "execution_count": 4,
   "metadata": {},
   "outputs": [
    {
     "output_type": "execute_result",
     "data": {
      "text/plain": "      close      open       max       min\n0  29.201,1  29.699,9  29.999,8  29.057,0\n1  29.699,9  29.820,0  30.200,0  29.400,0\n2  29.820,0  29.775,0  30.210,0  29.560,5\n3  29.775,0  29.560,0  29.889,0  29.560,0\n4  29.560,0  29.600,0  29.894,4  29.033,0",
      "text/html": "<div>\n<style scoped>\n    .dataframe tbody tr th:only-of-type {\n        vertical-align: middle;\n    }\n\n    .dataframe tbody tr th {\n        vertical-align: top;\n    }\n\n    .dataframe thead th {\n        text-align: right;\n    }\n</style>\n<table border=\"1\" class=\"dataframe\">\n  <thead>\n    <tr style=\"text-align: right;\">\n      <th></th>\n      <th>close</th>\n      <th>open</th>\n      <th>max</th>\n      <th>min</th>\n    </tr>\n  </thead>\n  <tbody>\n    <tr>\n      <th>0</th>\n      <td>29.201,1</td>\n      <td>29.699,9</td>\n      <td>29.999,8</td>\n      <td>29.057,0</td>\n    </tr>\n    <tr>\n      <th>1</th>\n      <td>29.699,9</td>\n      <td>29.820,0</td>\n      <td>30.200,0</td>\n      <td>29.400,0</td>\n    </tr>\n    <tr>\n      <th>2</th>\n      <td>29.820,0</td>\n      <td>29.775,0</td>\n      <td>30.210,0</td>\n      <td>29.560,5</td>\n    </tr>\n    <tr>\n      <th>3</th>\n      <td>29.775,0</td>\n      <td>29.560,0</td>\n      <td>29.889,0</td>\n      <td>29.560,0</td>\n    </tr>\n    <tr>\n      <th>4</th>\n      <td>29.560,0</td>\n      <td>29.600,0</td>\n      <td>29.894,4</td>\n      <td>29.033,0</td>\n    </tr>\n  </tbody>\n</table>\n</div>"
     },
     "metadata": {},
     "execution_count": 4
    }
   ],
   "source": [
    "btcDataset.head()"
   ]
  },
  {
   "cell_type": "code",
   "execution_count": 5,
   "metadata": {},
   "outputs": [],
   "source": [
    "btcDataset['close'] = btcDataset['close'].str.replace(',', '').astype(float)\n",
    "btcDataset['open'] = btcDataset['open'].str.replace(',', '').astype(float)\n",
    "btcDataset['max'] = btcDataset['max'].str.replace(',', '').astype(float)\n",
    "btcDataset['min'] = btcDataset['min'].str.replace(',', '').astype(float)"
   ]
  },
  {
   "cell_type": "code",
   "execution_count": 6,
   "metadata": {},
   "outputs": [
    {
     "output_type": "execute_result",
     "data": {
      "text/plain": "     close     open      max      min\n0  29.2011  29.6999  29.9998  29.0570\n1  29.6999  29.8200  30.2000  29.4000\n2  29.8200  29.7750  30.2100  29.5605\n3  29.7750  29.5600  29.8890  29.5600\n4  29.5600  29.6000  29.8944  29.0330",
      "text/html": "<div>\n<style scoped>\n    .dataframe tbody tr th:only-of-type {\n        vertical-align: middle;\n    }\n\n    .dataframe tbody tr th {\n        vertical-align: top;\n    }\n\n    .dataframe thead th {\n        text-align: right;\n    }\n</style>\n<table border=\"1\" class=\"dataframe\">\n  <thead>\n    <tr style=\"text-align: right;\">\n      <th></th>\n      <th>close</th>\n      <th>open</th>\n      <th>max</th>\n      <th>min</th>\n    </tr>\n  </thead>\n  <tbody>\n    <tr>\n      <th>0</th>\n      <td>29.2011</td>\n      <td>29.6999</td>\n      <td>29.9998</td>\n      <td>29.0570</td>\n    </tr>\n    <tr>\n      <th>1</th>\n      <td>29.6999</td>\n      <td>29.8200</td>\n      <td>30.2000</td>\n      <td>29.4000</td>\n    </tr>\n    <tr>\n      <th>2</th>\n      <td>29.8200</td>\n      <td>29.7750</td>\n      <td>30.2100</td>\n      <td>29.5605</td>\n    </tr>\n    <tr>\n      <th>3</th>\n      <td>29.7750</td>\n      <td>29.5600</td>\n      <td>29.8890</td>\n      <td>29.5600</td>\n    </tr>\n    <tr>\n      <th>4</th>\n      <td>29.5600</td>\n      <td>29.6000</td>\n      <td>29.8944</td>\n      <td>29.0330</td>\n    </tr>\n  </tbody>\n</table>\n</div>"
     },
     "metadata": {},
     "execution_count": 6
    }
   ],
   "source": [
    "btcDataset.head()"
   ]
  },
  {
   "cell_type": "code",
   "execution_count": 7,
   "metadata": {},
   "outputs": [],
   "source": [
    "X = btcDataset.iloc[:, 1:].values\n",
    "y = btcDataset.iloc[:, 0].values"
   ]
  },
  {
   "cell_type": "code",
   "execution_count": 8,
   "metadata": {},
   "outputs": [],
   "source": [
    "from sklearn.preprocessing import LabelEncoder\n",
    "le = LabelEncoder()\n",
    "y = le.fit_transform(y)\n",
    "for i in range(3):\n",
    "    X[:,i] = le.fit_transform(X[:,i])"
   ]
  },
  {
   "cell_type": "code",
   "execution_count": 9,
   "metadata": {
    "tags": []
   },
   "outputs": [
    {
     "output_type": "stream",
     "name": "stdout",
     "text": "[131 139 141 140 135 136 138 142 147 156 133 137 130 145 127 128 132 134\n 149 143 144 148 155 165 168 167 166 160 161 170 176 185 195 175 188 158\n 157 139 172 162 189 209 218 225 241 242 240 251 253 255 248 265 256 259\n 269 273 266 263 254 260 257 262 246 264 249 245 237 209 153 152 196 210\n 202 197 194 207 203 211 217 221 222 215 233 230 199 204 180 198 203 212\n 228 229 219 208 224 227 214 238 267 289 302 305 313 311 306 307 315 309\n 310 314 311 294 303 319 322 324 325 332 330 331 318 285 283 281 282 290\n 317 321 299 298 312 288 295 335 337 301 292 308 302 300 333 341 344 342\n 349 350 350 340 343 297 291 286 278 272 250 243 244 252 268 270 261 271\n 274 277 278 275 276 258 232 304 284 336 339 328 348 351 346 334 327 320\n 323 338 296 293 326 345 352 329 353 347 316 287 280 279 247 236 231 239\n 213 205 200 181 178 163 169 151 171 173 154 164 146 192 220 216 223 206\n 226 235 234 201 187 184 179 174 191 190 186 150 159 183 193 182 177 126\n 129 125 124 123 122 120 119 121 118 115 110 108 103 106 112 101 113 116\n 117 114 107 111 105 109 104  99  93  97  94  95  90 102  98 100  96  92\n  91  88  89  87  84  85  86  83  78  82  77  74  79  81  80  73  76  75\n  70  65  69  64  59  59  56  58  70  72  61  68  53  42  38  48  49  50\n  39  40  43  45  41  71  57  54  55  47  44  19  24  14  15  26  20  30\n  12  11  11   4   3   6   1   0   5   2   7   9   8  10  13  18  17  27\n  22  33  23  21  36  31  29  28  25  37  16  34  35  32  67  63  66  60\n  46  51  52  62  66]\n"
    }
   ],
   "source": [
    "print(y)"
   ]
  },
  {
   "cell_type": "code",
   "execution_count": 10,
   "metadata": {},
   "outputs": [],
   "source": [
    "from sklearn.model_selection import train_test_split\n",
    "X_train, X_test, y_train, y_test = train_test_split(X, y, test_size = 0.25, random_state = 0)"
   ]
  },
  {
   "cell_type": "code",
   "execution_count": 11,
   "metadata": {
    "tags": []
   },
   "outputs": [
    {
     "output_type": "stream",
     "name": "stdout",
     "text": "[315  99 242 166 217  36 228  71 120 138 318 341  95  76  68 146  56 305\n 184 333 344 205 260  59  38 107 153   5 319 287 282 313 128 139 269 136\n 257 295  90 249 171  48 220  93 144  50 216 223 119 245 328 187 125 278\n 219 273 256 301 212 203  11  91 142 302   4  22 266 283 201 270 194 284\n 322  58 264 121  39  19 108   6 148 349 350 255  51  17  45 169  92  74\n  65 155]\n"
    }
   ],
   "source": [
    "print(y_test)"
   ]
  },
  {
   "cell_type": "code",
   "execution_count": 12,
   "metadata": {},
   "outputs": [
    {
     "output_type": "execute_result",
     "data": {
      "text/plain": "KNeighborsClassifier()"
     },
     "metadata": {},
     "execution_count": 12
    }
   ],
   "source": [
    "from sklearn.neighbors import KNeighborsClassifier\n",
    "classifier = KNeighborsClassifier(n_neighbors = 5, metric = 'minkowski', p = 2)\n",
    "classifier.fit(X_train, y_train)"
   ]
  },
  {
   "cell_type": "code",
   "execution_count": 13,
   "metadata": {},
   "outputs": [],
   "source": [
    "y_pred = classifier.predict(X_test)"
   ]
  },
  {
   "cell_type": "code",
   "execution_count": 14,
   "metadata": {
    "tags": []
   },
   "outputs": [
    {
     "output_type": "stream",
     "name": "stdout",
     "text": "[[0 0 0 ... 0 0 0]\n [1 0 0 ... 0 0 0]\n [1 0 0 ... 0 0 0]\n ...\n [0 0 0 ... 0 0 0]\n [0 0 0 ... 0 0 0]\n [0 0 0 ... 0 0 0]]\n"
    },
    {
     "output_type": "execute_result",
     "data": {
      "text/plain": "0.0"
     },
     "metadata": {},
     "execution_count": 14
    }
   ],
   "source": [
    "from sklearn.metrics import confusion_matrix, accuracy_score\n",
    "cm = confusion_matrix(y_test, y_pred)\n",
    "print(cm)\n",
    "accuracy_score(y_test, y_pred)"
   ]
  }
 ],
 "metadata": {
  "kernel_info": {
   "name": "python3"
  },
  "kernelspec": {
   "display_name": "Python 3.8.2 64-bit",
   "language": "python",
   "name": "python38264bit059d974d79ca4de4a3207fd1bbc85754"
  },
  "language_info": {
   "codemirror_mode": {
    "name": "ipython",
    "version": 3
   },
   "file_extension": ".py",
   "mimetype": "text/x-python",
   "name": "python",
   "nbconvert_exporter": "python",
   "pygments_lexer": "ipython3",
   "version": "3.8.2-final"
  },
  "nteract": {
   "version": "0.14.5"
  }
 },
 "nbformat": 4,
 "nbformat_minor": 2
}